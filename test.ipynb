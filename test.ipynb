{
 "cells": [
  {
   "cell_type": "code",
   "execution_count": null,
   "metadata": {},
   "outputs": [],
   "source": [
    "import os\n",
    "\n",
    "if os.getenv('GITHUB_ACTIONS') is None:\n",
    "    print(\"Setting up environment variables locally...\")\n",
    "    os.environ['API_KEY'] = os.getenv('API_KEY')\n",
    "\n",
    "api_key = os.getenv('API_KEY')\n",
    "print(f\"API Key: {api_key}\")"
   ]
  }
 ],
 "metadata": {
  "language_info": {
   "name": "python"
  }
 },
 "nbformat": 4,
 "nbformat_minor": 2
}
