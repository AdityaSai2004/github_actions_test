{
 "cells": [
  {
   "cell_type": "code",
   "execution_count": null,
   "metadata": {},
   "outputs": [],
   "source": [
    "import os\n",
    "\n",
    "api_key = os.getenv('API_KEY')\n",
    "\n",
    "if api_key:\n",
    "    print(f\"API Key: {api_key}\")\n",
    "else:\n",
    "    print(\"API Key not found.\")"
   ]
  }
 ],
 "metadata": {
  "language_info": {
   "name": "python"
  }
 },
 "nbformat": 4,
 "nbformat_minor": 2
}
